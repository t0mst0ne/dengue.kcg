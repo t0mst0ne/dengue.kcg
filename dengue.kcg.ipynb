{
 "metadata": {
  "name": "",
  "signature": "sha256:cbce21e7955e784c6eb9405631d773c2ff1ef28833dfbe2995afecc4cb3fea75"
 },
 "nbformat": 3,
 "nbformat_minor": 0,
 "worksheets": [
  {
   "cells": [
    {
     "cell_type": "code",
     "collapsed": false,
     "input": [
      "#!/usr/bin/env python\n",
      "#coding:UTF-8\n",
      "import re\n",
      "import json\n",
      "import requests\n",
      "import datetime\n",
      "\n",
      "headers = {\n",
      "    \"Accept\":\"text/html,application/xhtml+xml,application/xml;q=0.9,image/webp,*/*;q=0.8\",\n",
      "    \"Accept-Encoding\":\"gzip, deflate\",\n",
      "    \"Accept-Language\":\"zh-TW,zh;q=0.8,en-US;q=0.6,en;q=0.4,zh-CN;q=0.2\",\n",
      "    \"Cache-Control\":\"no-cache\",\n",
      "    \"Connection\":\"keep-alive\",\n",
      "    \"Content-Length\":\"656\",\n",
      "    \"Content-Type\":\"application/x-www-form-urlencoded\",\n",
      "    \"DNT\":\"1\",\n",
      "    \"Host\":\"dengue.kcg.gov.tw\",\n",
      "    \"Origin:http\":\"//dengue.kcg.gov.tw\",\n",
      "    \"Pragma\":\"no-cache\",\n",
      "    \"Referer:http\":\"//dengue.kcg.gov.tw/KCGDengue/Mobile.aspx\",\n",
      "    \"User-Agent\":\"Mozilla/5.0 (Macintosh; Intel Mac OS X 10_9_5) AppleWebKit/537.36 (KHTML, like Gecko) Chrome/39.0.2171.65 Safari/537.36\"\n",
      "        }\n",
      "\n",
      "data = {\n",
      "    \"__EVENTTARGET\":\"Button_Search\",\n",
      "    \"__EVENTARGUMENT\":\"\",\n",
      "    \"__VIEWSTATE\":\"/wEPDwULLTEwMDAwMTExMjkPZBYCAgMPZBYCAgkPD2QWAh4Hb25jbGljawVCdGhpcy5kaXNhYmxlZD10cnVlO1Nob3dMb2FkaW5nKCk7X19kb1Bvc3RCYWNrKCdCdXR0b25fU2VhcmNoJywnJyk7ZGSLHYBiGA1yiwZ2u7zJ63cbRA2vm5fq+hbYFNAMVjOx1Q==\",\n",
      "    \"__VIEWSTATEGENERATOR\":\"413B2934\",\n",
      "    \"__EVENTVALIDATION\":\"/wEdAAgWGG2RY7jiUVmjHVLA3Vuhehn3bx2onw+gsGVGxW2uqPNH0QUya0tFKkgIABYfTinPqMgpP5oNyRNOFC9UkRd5TOB3/nlg9WQl65G7nSsW3XNGFTzwHLRD2v/eJGCd0ynBitcvyf0ePx5gnv8TklictmXUWyWAGbecBNn3zDP8oVEqyvt2y+R5rbK1ebIZhW17xDILuWgEcbUxmBSNbL8K\",\n",
      "    \"DropDownList_CaseType\":\"Confirm\",\n",
      "    \"DropDownList_AreaType\":\"VILLAGE\",\n",
      "        }\n",
      "\n",
      "\n",
      "date = datetime.date(2014,6,30)\n",
      "F = {}\n",
      "for i in range(100):\n",
      "        data[\"TextBox_Start\"] = date\n",
      "        date += datetime.timedelta(days=1)\n",
      "        data['TextBox_End'] = date\n",
      "        #print data['TextBox_Start'] , data['TextBox_End']\n",
      "\n",
      "        html = requests.post('http://dengue.kcg.gov.tw/KCGDengue/Mobile.aspx', verify=False, headers=headers, data=data)\n",
      "        match = re.findall(u'var AREA =  new Array\\((.*?)\\);', html.text)\n",
      "        match2 = re.findall(u'var NUMB =  new Array\\((.*?)\\);', html.text)\n",
      "        if match is None : continue \n",
      "        Area = [x.strip(\"'\") for x in match[0].split(', ')]\n",
      "        Count = match2[0].split(', ')\n",
      "        final = dict(zip(Area, Count))\n",
      "        F['date'] = date.strftime('%Y%m%d')\n",
      "        F['data'] = final\n",
      "        print json.dumps(F, ensure_ascii=False)\n"
     ],
     "language": "python",
     "metadata": {},
     "outputs": [
      {
       "output_type": "stream",
       "stream": "stdout",
       "text": [
        "{\"date\": \"20140701\", \"data\": {\"\u798f\u8aa0\u91cc\": \"3\", \"\u6e2f\u8208\u91cc\": \"1\", \"\u660e\u5b5d\u91cc\": \"1\", \"\u6771\u9580\u91cc\": \"1\", \"\u4e2d\u5e84\u91cc\": \"4\"}}\n",
        "{\"date\": \"20140702\", \"data\": {\"\u6e2f\u8208\u91cc\": \"1\", \"\u6e2f\u5357\u91cc\": \"1\", \"\u4e2d\u5e84\u91cc\": \"5\", \"\u9f0e\u6cf0\u91cc\": \"1\", \"\u798f\u8aa0\u91cc\": \"3\", \"\u660e\u5b5d\u91cc\": \"1\", \"\u6771\u9580\u91cc\": \"1\", \"\u5c71\u660e\u91cc\": \"1\"}}"
       ]
      },
      {
       "output_type": "stream",
       "stream": "stdout",
       "text": [
        "\n",
        "{\"date\": \"20140703\", \"data\": {\"\u6e2f\u5357\u91cc\": \"1\", \"\u65b0\u5149\u91cc\": \"1\", \"\u4e2d\u5e84\u91cc\": \"2\", \"\u9f0e\u6cf0\u91cc\": \"1\", \"\u798f\u8aa0\u91cc\": \"5\", \"\u5584\u7f8e\u91cc\": \"1\", \"\u6797\u6cc9\u91cc\": \"1\", \"\u570b\u660c\u91cc\": \"1\", \"\u5c71\u660e\u91cc\": \"1\", \"\u6797\u5fb7\u91cc\": \"1\"}}"
       ]
      },
      {
       "output_type": "stream",
       "stream": "stdout",
       "text": [
        "\n",
        "{\"date\": \"20140704\", \"data\": {\"\u65b0\u5149\u91cc\": \"1\", \"\u4e2d\u5e84\u91cc\": \"1\", \"\u798f\u8aa0\u91cc\": \"3\", \"\u5584\u7f8e\u91cc\": \"1\", \"\u6797\u6cc9\u91cc\": \"1\", \"\u6797\u5fb7\u91cc\": \"1\", \"\u570b\u660c\u91cc\": \"1\", \"\u798f\u7965\u91cc\": \"2\", \"\u6797\u5357\u91cc\": \"2\", \"\u65b0\u5f37\u91cc\": \"1\"}}"
       ]
      },
      {
       "output_type": "stream",
       "stream": "stdout",
       "text": [
        "\n",
        "{\"date\": \"20140705\", \"data\": {\"\u6e2f\u6b63\u91cc\": \"1\", \"\u4e2d\u5e84\u91cc\": \"1\", \"\u6e2f\u660e\u91cc\": \"1\", \"\u798f\u9686\u91cc\": \"1\", \"\u6b63\u7fa9\u91cc\": \"1\", \"\u662d\u660e\u91cc\": \"1\", \"\u798f\u7965\u91cc\": \"4\", \"\u6797\u5357\u91cc\": \"2\", \"\u65b0\u5f37\u91cc\": \"1\"}}"
       ]
      },
      {
       "output_type": "stream",
       "stream": "stdout",
       "text": [
        "\n",
        "{\"date\": \"20140706\", \"data\": {\"\u6e2f\u5357\u91cc\": \"1\", \"\u6e2f\u6b63\u91cc\": \"1\", \"\u4e2d\u5e84\u91cc\": \"1\", \"\u6e2f\u660e\u91cc\": \"1\", \"\u5c0f\u6e2f\u91cc\": \"1\", \"\u798f\u9686\u91cc\": \"1\", \"\u6b63\u7fa9\u91cc\": \"1\", \"\u745e\u5357\u91cc\": \"1\", \"\u662d\u660e\u91cc\": \"1\", \"\u798f\u7965\u91cc\": \"2\", \"\u5b89\u5be7\u91cc\": \"1\"}}"
       ]
      },
      {
       "output_type": "stream",
       "stream": "stdout",
       "text": [
        "\n",
        "{\"date\": \"20140707\", \"data\": {\"\u6587\u83ef\u91cc\": \"1\", \"\u6e2f\u5357\u91cc\": \"1\", \"\u798f\u8aa0\u91cc\": \"4\", \"\u5c0f\u6e2f\u91cc\": \"1\", \"\u798f\u9686\u91cc\": \"1\", \"\u5357\u6e2f\u91cc\": \"1\", \"\u4e94\u798f\u91cc\": \"1\", \"\u798f\u7965\u91cc\": \"1\", \"\u93ae\u5357\u91cc\": \"1\", \"\u5c1a\u7fa9\u91cc\": \"1\", \"\u5b89\u5be7\u91cc\": \"1\", \"\u745e\u5357\u91cc\": \"1\"}}"
       ]
      },
      {
       "output_type": "stream",
       "stream": "stdout",
       "text": [
        "\n",
        "{\"date\": \"20140708\", \"data\": {\"\u6587\u83ef\u91cc\": \"2\", \"\u5fe0\u5b5d\u91cc\": \"1\", \"\u4e2d\u5e84\u91cc\": \"1\", \"\u798f\u8aa0\u91cc\": \"5\", \"\u570b\u5149\u91cc\": \"1\", \"\u798f\u9686\u91cc\": \"1\", \"\u5357\u6e2f\u91cc\": \"2\", \"\u9f13\u5cf0\u91cc\": \"1\", \"\u4e94\u798f\u91cc\": \"1\", \"\u798f\u7965\u91cc\": \"1\", \"\u93ae\u5357\u91cc\": \"1\", \"\u5c1a\u7fa9\u91cc\": \"1\", \"\u78a7\u7d05\u91cc\": \"1\"}}"
       ]
      },
      {
       "output_type": "stream",
       "stream": "stdout",
       "text": [
        "\n",
        "{\"date\": \"20140709\", \"data\": {\"\u6587\u83ef\u91cc\": \"1\", \"\u4e2d\u5e84\u91cc\": \"1\", \"\u660e\u7fa9\u91cc\": \"1\", \"\u798f\u8aa0\u91cc\": \"3\", \"\u8349\u8859\u91cc\": \"1\", \"\u5357\u6e2f\u91cc\": \"2\", \"\u9f13\u5cf0\u91cc\": \"1\", \"\u570b\u5149\u91cc\": \"1\", \"\u5fe0\u5b5d\u91cc\": \"1\", \"\u96c4\u5cf0\u91cc\": \"1\", \"\u78a7\u7d05\u91cc\": \"1\"}}"
       ]
      },
      {
       "output_type": "stream",
       "stream": "stdout",
       "text": [
        "\n",
        "{\"date\": \"20140710\", \"data\": {\"\u93ae\u69ae\u91cc\": \"1\", \"\u660e\u7fa9\u91cc\": \"1\", \"\u5357\u6e2f\u91cc\": \"1\", \"\u798f\u8aa0\u91cc\": \"3\", \"\u8349\u8859\u91cc\": \"1\", \"\u5e97\u93ae\u91cc\": \"1\", \"\u745e\u5317\u91cc\": \"1\", \"\u93ae\u5357\u91cc\": \"1\", \"\u96c4\u5cf0\u91cc\": \"1\"}}"
       ]
      },
      {
       "output_type": "stream",
       "stream": "stdout",
       "text": [
        "\n",
        "{\"date\": \"20140711\", \"data\": {\"\u6587\u83ef\u91cc\": \"1\", \"\u93ae\u69ae\u91cc\": \"1\", \"\u4e2d\u5e84\u91cc\": \"1\", \"\u6e2f\u540e\u91cc\": \"1\", \"\u798f\u8aa0\u91cc\": \"1\", \"\u660e\u7fa9\u91cc\": \"1\", \"\u5e97\u93ae\u91cc\": \"1\", \"\u5f8c\u5e84\u91cc\": \"1\", \"\u745e\u5317\u91cc\": \"1\", \"\u93ae\u5357\u91cc\": \"1\"}}"
       ]
      },
      {
       "output_type": "stream",
       "stream": "stdout",
       "text": [
        "\n",
        "{\"date\": \"20140712\", \"data\": {\"\u5317\u9580\u91cc\": \"1\", \"\u6587\u83ef\u91cc\": \"1\", \"\u4e2d\u5e84\u91cc\": \"1\", \"\u660e\u7fa9\u91cc\": \"2\", \"\u798f\u8aa0\u91cc\": \"1\", \"\u5f8c\u5e84\u91cc\": \"1\", \"\u745e\u83ef\u91cc\": \"1\", \"\u93ae\u5317\u91cc\": \"1\", \"\u6771\u9580\u91cc\": \"1\", \"\u6e2f\u540e\u91cc\": \"1\", \"\u6e2f\u53e3\u91cc\": \"1\"}}"
       ]
      },
      {
       "output_type": "stream",
       "stream": "stdout",
       "text": [
        "\n",
        "{\"date\": \"20140713\", \"data\": {\"\u5317\u9580\u91cc\": \"1\", \"\u6e2f\u53e3\u91cc\": \"2\", \"\u660e\u7fa9\u91cc\": \"1\", \"\u798f\u8aa0\u91cc\": \"3\", \"\u4e8c\u82d3\u91cc\": \"1\", \"\u745e\u83ef\u91cc\": \"1\", \"\u5c71\u660e\u91cc\": \"1\", \"\u6771\u9580\u91cc\": \"1\", \"\u93ae\u5317\u91cc\": \"1\", \"\u745e\u8208\u91cc\": \"1\"}}"
       ]
      },
      {
       "output_type": "stream",
       "stream": "stdout",
       "text": [
        "\n",
        "{\"date\": \"20140714\", \"data\": {\"\u8001\u723a\u91cc\": \"1\", \"\u6e2f\u53e3\u91cc\": \"1\", \"\u6e2f\u660e\u91cc\": \"1\", \"\u798f\u8aa0\u91cc\": \"5\", \"\u4e8c\u82d3\u91cc\": \"1\", \"\u798f\u9686\u91cc\": \"1\", \"\u6771\u9580\u91cc\": \"2\", \"\u5c71\u660e\u91cc\": \"1\", \"\u745e\u8208\u91cc\": \"2\", \"\u65b0\u5f37\u91cc\": \"1\", \"\u9f0e\u76db\u91cc\": \"1\", \"\u5c1a\u7fa9\u91cc\": \"1\"}}"
       ]
      },
      {
       "output_type": "stream",
       "stream": "stdout",
       "text": [
        "\n",
        "{\"date\": \"20140715\", \"data\": {\"\u8001\u723a\u91cc\": \"1\", \"\u6e2f\u660e\u91cc\": \"1\", \"\u660e\u7fa9\u91cc\": \"1\", \"\u798f\u8aa0\u91cc\": \"3\", \"\u798f\u5c45\u91cc\": \"1\", \"\u5e97\u93ae\u91cc\": \"2\", \"\u798f\u9686\u91cc\": \"2\", \"\u6771\u9580\u91cc\": \"3\", \"\u9cf3\u6771\u91cc\": \"1\", \"\u5c71\u660e\u91cc\": \"1\", \"\u745e\u8208\u91cc\": \"1\", \"\u65b0\u5f37\u91cc\": \"2\", \"\u9f0e\u76db\u91cc\": \"1\", \"\u5c1a\u7fa9\u91cc\": \"1\"}}"
       ]
      },
      {
       "output_type": "stream",
       "stream": "stdout",
       "text": [
        "\n",
        "{\"date\": \"20140716\", \"data\": {\"\u4e2d\u5e84\u91cc\": \"1\", \"\u6587\u83ef\u91cc\": \"1\", \"\u798f\u7965\u91cc\": \"1\", \"\u6e2f\u6b63\u91cc\": \"1\", \"\u660e\u7fa9\u91cc\": \"2\", \"\u5c71\u6771\u91cc\": \"1\", \"\u9f8d\u6210\u91cc\": \"1\", \"\u798f\u5c45\u91cc\": \"1\", \"\u5e97\u93ae\u91cc\": \"2\", \"\u798f\u9686\u91cc\": \"2\", \"\u6771\u9580\u91cc\": \"2\", \"\u9cf3\u6771\u91cc\": \"1\", \"\u5c71\u660e\u91cc\": \"1\", \"\u65b0\u5f37\u91cc\": \"1\", \"\u9ce5\u677e\u91cc\": \"1\", \"\u9cf3\u5bae\u91cc\": \"1\", \"\u745e\u6771\u91cc\": \"1\"}}"
       ]
      },
      {
       "output_type": "stream",
       "stream": "stdout",
       "text": [
        "\n",
        "{\"date\": \"20140717\", \"data\": {\"\u6587\u83ef\u91cc\": \"1\", \"\u6587\u6771\u91cc\": \"1\", \"\u6e2f\u6b63\u91cc\": \"1\", \"\u4e2d\u5e84\u91cc\": \"2\", \"\u798f\u8aa0\u91cc\": \"1\", \"\u5c71\u6771\u91cc\": \"2\", \"\u9f8d\u6210\u91cc\": \"1\", \"\u9cf3\u5bae\u91cc\": \"1\", \"\u798f\u9686\u91cc\": \"2\", \"\u660e\u7fa9\u91cc\": \"1\", \"\u6771\u9580\u91cc\": \"2\", \"\u798f\u7965\u91cc\": \"1\", \"\u9ce5\u677e\u91cc\": \"1\", \"\u524d\u5cf0\u91cc\": \"1\", \"\u57ce\u6771\u91cc\": \"1\", \"\u745e\u6771\u91cc\": \"1\"}}"
       ]
      },
      {
       "output_type": "stream",
       "stream": "stdout",
       "text": [
        "\n",
        "{\"date\": \"20140718\", \"data\": {\"\u798f\u5eb7\u91cc\": \"3\", \"\u5c71\u660e\u91cc\": \"1\", \"\u6587\u6771\u91cc\": \"2\", \"\u798f\u9686\u91cc\": \"1\", \"\u4e2d\u5e84\u91cc\": \"1\", \"\u798f\u8aa0\u91cc\": \"2\", \"\u5c71\u6771\u91cc\": \"1\", \"\u524d\u5cf0\u91cc\": \"1\", \"\u5e97\u93ae\u91cc\": \"3\", \"\u5c3e\u5317\u91cc\": \"1\", \"\u4e94\u5e38\u91cc\": \"1\", \"\u9054\u5fb7\u91cc\": \"1\", \"\u6771\u9580\u91cc\": \"1\", \"\u93ae\u5357\u91cc\": \"1\", \"\u5c1a\u7fa9\u91cc\": \"1\", \"\u57ce\u6771\u91cc\": \"1\"}}"
       ]
      },
      {
       "output_type": "stream",
       "stream": "stdout",
       "text": [
        "\n",
        "{\"date\": \"20140719\", \"data\": {\"\u798f\u5eb7\u91cc\": \"3\", \"\u6587\u6771\u91cc\": \"1\", \"\u4e2d\u5e84\u91cc\": \"1\", \"\u798f\u8aa0\u91cc\": \"3\", \"\u5c71\u660e\u91cc\": \"1\", \"\u9054\u5fb7\u91cc\": \"1\", \"\u5e97\u93ae\u91cc\": \"3\", \"\u5357\u6210\u91cc\": \"1\", \"\u93ae\u5357\u91cc\": \"4\", \"\u4e94\u5e38\u91cc\": \"1\", \"\u798f\u9686\u91cc\": \"2\", \"\u5c3e\u5317\u91cc\": \"1\", \"\u93ae\u6d77\u91cc\": \"1\", \"\u5c1a\u7fa9\u91cc\": \"1\"}}"
       ]
      },
      {
       "output_type": "stream",
       "stream": "stdout",
       "text": [
        "\n",
        "{\"date\": \"20140720\", \"data\": {\"\u6587\u6771\u91cc\": \"1\", \"\u4e2d\u5e84\u91cc\": \"2\", \"\u798f\u8aa0\u91cc\": \"2\", \"\u5584\u7f8e\u91cc\": \"1\", \"\u745e\u7965\u91cc\": \"1\", \"\u798f\u9686\u91cc\": \"2\", \"\u5357\u6210\u91cc\": \"1\", \"\u93ae\u5357\u91cc\": \"6\", \"\u6c38\u5eb7\u91cc\": \"1\", \"\u5408\u4f5c\u91cc\": \"2\", \"\u5e97\u93ae\u91cc\": \"2\", \"\u93ae\u6d77\u91cc\": \"1\", \"\u5ec8\u838a\u91cc\": \"1\", \"\u5c1a\u7fa9\u91cc\": \"1\", \"\u6842\u6797\u91cc\": \"1\"}}"
       ]
      },
      {
       "output_type": "stream",
       "stream": "stdout",
       "text": [
        "\n",
        "{\"date\": \"20140721\", \"data\": {\"\u5408\u4f5c\u91cc\": \"3\", \"\u5e97\u93ae\u91cc\": \"2\", \"\u9f8d\u76ee\u91cc\": \"1\", \"\u4e94\u798f\u91cc\": \"1\", \"\u6c11\u4e3b\u91cc\": \"1\", \"\u93ae\u5357\u91cc\": \"3\", \"\u6587\u6771\u91cc\": \"1\", \"\u58fd\u661f\u91cc\": \"1\", \"\u5ec8\u838a\u91cc\": \"1\", \"\u5c1a\u7fa9\u91cc\": \"1\", \"\u798f\u5eb7\u91cc\": \"2\", \"\u6d77\u6d0b\u91cc\": \"1\", \"\u4e2d\u5e84\u91cc\": \"2\", \"\u5584\u7f8e\u91cc\": \"1\", \"\u5bcc\u7532\u91cc\": \"1\", \"\u5f8c\u91d1\u91cc\": \"1\", \"\u6c38\u5eb7\u91cc\": \"1\", \"\u5167\u5751\u91cc\": \"1\", \"\u5c71\u660e\u91cc\": \"3\", \"\u5357\u6e2f\u91cc\": \"1\", \"\u745e\u7965\u91cc\": \"1\", \"\u6842\u6797\u91cc\": \"2\"}}"
       ]
      },
      {
       "output_type": "stream",
       "stream": "stdout",
       "text": [
        "\n",
        "{\"date\": \"20140722\", \"data\": {\"\u5408\u4f5c\u91cc\": \"1\", \"\u65b0\u5149\u91cc\": \"1\", \"\u5927\u576a\u91cc\": \"1\", \"\u9f8d\u76ee\u91cc\": \"1\", \"\u4e94\u798f\u91cc\": \"1\", \"\u6c11\u4e3b\u91cc\": \"1\", \"\u798f\u8208\u91cc\": \"1\", \"\u6587\u6771\u91cc\": \"1\", \"\u6771\u9580\u91cc\": \"1\", \"\u58fd\u661f\u91cc\": \"1\", \"\u798f\u5eb7\u91cc\": \"2\", \"\u6d77\u6d0b\u91cc\": \"1\", \"\u4e2d\u5e84\u91cc\": \"1\", \"\u548c\u8208\u91cc\": \"1\", \"\u5bcc\u7532\u91cc\": \"1\", \"\u5f8c\u91d1\u91cc\": \"1\", \"\u5167\u5751\u91cc\": \"1\", \"\u5c71\u660e\u91cc\": \"3\", \"\u798f\u8aa0\u91cc\": \"1\", \"\u6e2f\u5898\u91cc\": \"1\", \"\u5357\u6e2f\u91cc\": \"1\", \"\u6842\u6797\u91cc\": \"1\"}}"
       ]
      },
      {
       "output_type": "stream",
       "stream": "stdout",
       "text": [
        "\n",
        "{\"date\": \"20140723\", \"data\": {\"\u798f\u8208\u91cc\": \"1\", \"\u798f\u5eb7\u91cc\": \"2\", \"\u6587\u6771\u91cc\": \"1\", \"\u65b0\u5149\u91cc\": \"1\", \"\u660e\u7fa9\u91cc\": \"2\", \"\u6587\u798f\u91cc\": \"1\", \"\u798f\u8aa0\u91cc\": \"2\", \"\u5927\u5fb7\u91cc\": \"1\", \"\u4e8c\u82d3\u91cc\": \"2\", \"\u548c\u8208\u91cc\": \"1\", \"\u6e2f\u5898\u91cc\": \"1\", \"\u5927\u576a\u91cc\": \"2\", \"\u5fe0\u7fa9\u91cc\": \"1\", \"\u6771\u9580\u91cc\": \"1\", \"\u6c11\u4e3b\u91cc\": \"2\", \"\u5c71\u660e\u91cc\": \"1\", \"\u5927\u82d3\u91cc\": \"1\", \"\u798f\u6d77\u91cc\": \"2\"}}"
       ]
      },
      {
       "output_type": "stream",
       "stream": "stdout",
       "text": [
        "\n",
        "{\"date\": \"20140724\", \"data\": {\"\u798f\u6d77\u91cc\": \"2\", \"\u660e\u7fa9\u91cc\": \"2\", \"\u6587\u798f\u91cc\": \"1\", \"\u798f\u4eba\u91cc\": \"1\", \"\u6797\u69ae\u91cc\": \"1\", \"\u5c71\u660e\u91cc\": \"4\", \"\u5927\u576a\u91cc\": \"1\", \"\u5fe0\u7fa9\u91cc\": \"2\", \"\u6c11\u4e3b\u91cc\": \"2\", \"\u798f\u5730\u91cc\": \"1\", \"\u798f\u5c71\u91cc\": \"1\", \"\u6587\u6771\u91cc\": \"1\", \"\u524d\u5cf0\u91cc\": \"1\", \"\u798f\u5eb7\u91cc\": \"3\", \"\u4e2d\u5e84\u91cc\": \"1\", \"\u5927\u5fb7\u91cc\": \"1\", \"\u798f\u9686\u91cc\": \"1\", \"\u93ae\u5317\u91cc\": \"1\", \"\u798f\u8aa0\u91cc\": \"2\", \"\u4e8c\u82d3\u91cc\": \"2\", \"\u5fe0\u5b5d\u91cc\": \"1\", \"\u5927\u82d3\u91cc\": \"2\"}}"
       ]
      },
      {
       "output_type": "stream",
       "stream": "stdout",
       "text": [
        "\n",
        "{\"date\": \"20140725\", \"data\": {\"\u524d\u5cf0\u91cc\": \"1\", \"\u6797\u69ae\u91cc\": \"2\", \"\u5c71\u660e\u91cc\": \"3\", \"\u5927\u576a\u91cc\": \"1\", \"\u5fe0\u7fa9\u91cc\": \"1\", \"\u5929\u8208\u91cc\": \"1\", \"\u798f\u5730\u91cc\": \"1\", \"\u798f\u5c71\u91cc\": \"1\", \"\u5fb7\u751f\u91cc\": \"1\", \"\u6587\u6771\u91cc\": \"2\", \"\u6b63\u4ec1\u91cc\": \"1\", \"\u798f\u4eba\u91cc\": \"1\", \"\u632f\u8208\u91cc\": \"1\", \"\u798f\u5eb7\u91cc\": \"2\", \"\u4e2d\u5e84\u91cc\": \"1\", \"\u798f\u9686\u91cc\": \"1\", \"\u93ae\u5317\u91cc\": \"1\", \"\u798f\u8aa0\u91cc\": \"1\", \"\u4e8c\u82d3\u91cc\": \"1\", \"\u65b0\u6cf0\u91cc\": \"1\", \"\u5357\u6e2f\u91cc\": \"1\", \"\u5fe0\u5b5d\u91cc\": \"1\", \"\u745e\u8208\u91cc\": \"1\", \"\u5927\u82d3\u91cc\": \"1\"}}"
       ]
      },
      {
       "output_type": "stream",
       "stream": "stdout",
       "text": [
        "\n",
        "{\"date\": \"20140726\", \"data\": {\"\u8208\u5fb7\u91cc\": \"1\", \"\u9f0e\u6cf0\u91cc\": \"1\", \"\u6797\u69ae\u91cc\": \"2\", \"\u6b63\u7fa9\u91cc\": \"1\", \"\u5927\u576a\u91cc\": \"1\", \"\u5fe0\u7fa9\u91cc\": \"1\", \"\u5929\u8208\u91cc\": \"1\", \"\u745e\u9686\u91cc\": \"1\", \"\u5fb7\u751f\u91cc\": \"1\", \"\u6587\u6771\u91cc\": \"1\", \"\u671d\u967d\u91cc\": \"1\", \"\u6b63\u4ec1\u91cc\": \"1\", \"\u632f\u8208\u91cc\": \"1\", \"\u798f\u5eb7\u91cc\": \"1\", \"\u6e2f\u540e\u91cc\": \"1\", \"\u798f\u5c45\u91cc\": \"1\", \"\u798f\u9686\u91cc\": \"2\", \"\u5e97\u93ae\u91cc\": \"1\", \"\u798f\u897f\u91cc\": \"1\", \"\u5c71\u660e\u91cc\": \"1\", \"\u6b63\u82d3\u91cc\": \"1\", \"\u4e8c\u82d3\u91cc\": \"1\", \"\u65b0\u6cf0\u91cc\": \"1\", \"\u5357\u6e2f\u91cc\": \"1\", \"\u745e\u8208\u91cc\": \"1\"}}"
       ]
      },
      {
       "output_type": "stream",
       "stream": "stdout",
       "text": [
        "\n"
       ]
      },
      {
       "ename": "KeyboardInterrupt",
       "evalue": "",
       "output_type": "pyerr",
       "traceback": [
        "\u001b[0;31m---------------------------------------------------------------------------\u001b[0m\n\u001b[0;31mKeyboardInterrupt\u001b[0m                         Traceback (most recent call last)",
        "\u001b[0;32m<ipython-input-4-aece07f5b5e5>\u001b[0m in \u001b[0;36m<module>\u001b[0;34m()\u001b[0m\n\u001b[1;32m     41\u001b[0m         \u001b[0;31m#print data['TextBox_Start'] , data['TextBox_End']\u001b[0m\u001b[0;34m\u001b[0m\u001b[0;34m\u001b[0m\u001b[0m\n\u001b[1;32m     42\u001b[0m \u001b[0;34m\u001b[0m\u001b[0m\n\u001b[0;32m---> 43\u001b[0;31m         \u001b[0mhtml\u001b[0m \u001b[0;34m=\u001b[0m \u001b[0mrequests\u001b[0m\u001b[0;34m.\u001b[0m\u001b[0mpost\u001b[0m\u001b[0;34m(\u001b[0m\u001b[0;34m'http://dengue.kcg.gov.tw/KCGDengue/Mobile.aspx'\u001b[0m\u001b[0;34m,\u001b[0m \u001b[0mverify\u001b[0m\u001b[0;34m=\u001b[0m\u001b[0mFalse\u001b[0m\u001b[0;34m,\u001b[0m \u001b[0mheaders\u001b[0m\u001b[0;34m=\u001b[0m\u001b[0mheaders\u001b[0m\u001b[0;34m,\u001b[0m \u001b[0mdata\u001b[0m\u001b[0;34m=\u001b[0m\u001b[0mdata\u001b[0m\u001b[0;34m)\u001b[0m\u001b[0;34m\u001b[0m\u001b[0m\n\u001b[0m\u001b[1;32m     44\u001b[0m         \u001b[0mmatch\u001b[0m \u001b[0;34m=\u001b[0m \u001b[0mre\u001b[0m\u001b[0;34m.\u001b[0m\u001b[0mfindall\u001b[0m\u001b[0;34m(\u001b[0m\u001b[0;34mu'var AREA =  new Array\\((.*?)\\);'\u001b[0m\u001b[0;34m,\u001b[0m \u001b[0mhtml\u001b[0m\u001b[0;34m.\u001b[0m\u001b[0mtext\u001b[0m\u001b[0;34m)\u001b[0m\u001b[0;34m\u001b[0m\u001b[0m\n\u001b[1;32m     45\u001b[0m         \u001b[0mmatch2\u001b[0m \u001b[0;34m=\u001b[0m \u001b[0mre\u001b[0m\u001b[0;34m.\u001b[0m\u001b[0mfindall\u001b[0m\u001b[0;34m(\u001b[0m\u001b[0;34mu'var NUMB =  new Array\\((.*?)\\);'\u001b[0m\u001b[0;34m,\u001b[0m \u001b[0mhtml\u001b[0m\u001b[0;34m.\u001b[0m\u001b[0mtext\u001b[0m\u001b[0;34m)\u001b[0m\u001b[0;34m\u001b[0m\u001b[0m\n",
        "\u001b[0;32m/usr/local/lib/python2.7/site-packages/requests/api.pyc\u001b[0m in \u001b[0;36mpost\u001b[0;34m(url, data, json, **kwargs)\u001b[0m\n\u001b[1;32m     92\u001b[0m     \"\"\"\n\u001b[1;32m     93\u001b[0m \u001b[0;34m\u001b[0m\u001b[0m\n\u001b[0;32m---> 94\u001b[0;31m     \u001b[0;32mreturn\u001b[0m \u001b[0mrequest\u001b[0m\u001b[0;34m(\u001b[0m\u001b[0;34m'post'\u001b[0m\u001b[0;34m,\u001b[0m \u001b[0murl\u001b[0m\u001b[0;34m,\u001b[0m \u001b[0mdata\u001b[0m\u001b[0;34m=\u001b[0m\u001b[0mdata\u001b[0m\u001b[0;34m,\u001b[0m \u001b[0mjson\u001b[0m\u001b[0;34m=\u001b[0m\u001b[0mjson\u001b[0m\u001b[0;34m,\u001b[0m \u001b[0;34m**\u001b[0m\u001b[0mkwargs\u001b[0m\u001b[0;34m)\u001b[0m\u001b[0;34m\u001b[0m\u001b[0m\n\u001b[0m\u001b[1;32m     95\u001b[0m \u001b[0;34m\u001b[0m\u001b[0m\n\u001b[1;32m     96\u001b[0m \u001b[0;34m\u001b[0m\u001b[0m\n",
        "\u001b[0;32m/usr/local/lib/python2.7/site-packages/requests/api.pyc\u001b[0m in \u001b[0;36mrequest\u001b[0;34m(method, url, **kwargs)\u001b[0m\n\u001b[1;32m     47\u001b[0m \u001b[0;34m\u001b[0m\u001b[0m\n\u001b[1;32m     48\u001b[0m     \u001b[0msession\u001b[0m \u001b[0;34m=\u001b[0m \u001b[0msessions\u001b[0m\u001b[0;34m.\u001b[0m\u001b[0mSession\u001b[0m\u001b[0;34m(\u001b[0m\u001b[0;34m)\u001b[0m\u001b[0;34m\u001b[0m\u001b[0m\n\u001b[0;32m---> 49\u001b[0;31m     \u001b[0;32mreturn\u001b[0m \u001b[0msession\u001b[0m\u001b[0;34m.\u001b[0m\u001b[0mrequest\u001b[0m\u001b[0;34m(\u001b[0m\u001b[0mmethod\u001b[0m\u001b[0;34m=\u001b[0m\u001b[0mmethod\u001b[0m\u001b[0;34m,\u001b[0m \u001b[0murl\u001b[0m\u001b[0;34m=\u001b[0m\u001b[0murl\u001b[0m\u001b[0;34m,\u001b[0m \u001b[0;34m**\u001b[0m\u001b[0mkwargs\u001b[0m\u001b[0;34m)\u001b[0m\u001b[0;34m\u001b[0m\u001b[0m\n\u001b[0m\u001b[1;32m     50\u001b[0m \u001b[0;34m\u001b[0m\u001b[0m\n\u001b[1;32m     51\u001b[0m \u001b[0;34m\u001b[0m\u001b[0m\n",
        "\u001b[0;32m/usr/local/lib/python2.7/site-packages/requests/sessions.pyc\u001b[0m in \u001b[0;36mrequest\u001b[0;34m(self, method, url, params, data, json, headers, cookies, files, auth, timeout, allow_redirects, proxies, hooks, stream, verify, cert)\u001b[0m\n\u001b[1;32m    455\u001b[0m         }\n\u001b[1;32m    456\u001b[0m         \u001b[0msend_kwargs\u001b[0m\u001b[0;34m.\u001b[0m\u001b[0mupdate\u001b[0m\u001b[0;34m(\u001b[0m\u001b[0msettings\u001b[0m\u001b[0;34m)\u001b[0m\u001b[0;34m\u001b[0m\u001b[0m\n\u001b[0;32m--> 457\u001b[0;31m         \u001b[0mresp\u001b[0m \u001b[0;34m=\u001b[0m \u001b[0mself\u001b[0m\u001b[0;34m.\u001b[0m\u001b[0msend\u001b[0m\u001b[0;34m(\u001b[0m\u001b[0mprep\u001b[0m\u001b[0;34m,\u001b[0m \u001b[0;34m**\u001b[0m\u001b[0msend_kwargs\u001b[0m\u001b[0;34m)\u001b[0m\u001b[0;34m\u001b[0m\u001b[0m\n\u001b[0m\u001b[1;32m    458\u001b[0m \u001b[0;34m\u001b[0m\u001b[0m\n\u001b[1;32m    459\u001b[0m         \u001b[0;32mreturn\u001b[0m \u001b[0mresp\u001b[0m\u001b[0;34m\u001b[0m\u001b[0m\n",
        "\u001b[0;32m/usr/local/lib/python2.7/site-packages/requests/sessions.pyc\u001b[0m in \u001b[0;36msend\u001b[0;34m(self, request, **kwargs)\u001b[0m\n\u001b[1;32m    567\u001b[0m \u001b[0;34m\u001b[0m\u001b[0m\n\u001b[1;32m    568\u001b[0m         \u001b[0;31m# Send the request\u001b[0m\u001b[0;34m\u001b[0m\u001b[0;34m\u001b[0m\u001b[0m\n\u001b[0;32m--> 569\u001b[0;31m         \u001b[0mr\u001b[0m \u001b[0;34m=\u001b[0m \u001b[0madapter\u001b[0m\u001b[0;34m.\u001b[0m\u001b[0msend\u001b[0m\u001b[0;34m(\u001b[0m\u001b[0mrequest\u001b[0m\u001b[0;34m,\u001b[0m \u001b[0;34m**\u001b[0m\u001b[0mkwargs\u001b[0m\u001b[0;34m)\u001b[0m\u001b[0;34m\u001b[0m\u001b[0m\n\u001b[0m\u001b[1;32m    570\u001b[0m \u001b[0;34m\u001b[0m\u001b[0m\n\u001b[1;32m    571\u001b[0m         \u001b[0;31m# Total elapsed time of the request (approximately)\u001b[0m\u001b[0;34m\u001b[0m\u001b[0;34m\u001b[0m\u001b[0m\n",
        "\u001b[0;32m/usr/local/lib/python2.7/site-packages/requests/adapters.pyc\u001b[0m in \u001b[0;36msend\u001b[0;34m(self, request, stream, timeout, verify, cert, proxies)\u001b[0m\n\u001b[1;32m    360\u001b[0m                     \u001b[0mdecode_content\u001b[0m\u001b[0;34m=\u001b[0m\u001b[0mFalse\u001b[0m\u001b[0;34m,\u001b[0m\u001b[0;34m\u001b[0m\u001b[0m\n\u001b[1;32m    361\u001b[0m                     \u001b[0mretries\u001b[0m\u001b[0;34m=\u001b[0m\u001b[0mRetry\u001b[0m\u001b[0;34m(\u001b[0m\u001b[0mself\u001b[0m\u001b[0;34m.\u001b[0m\u001b[0mmax_retries\u001b[0m\u001b[0;34m,\u001b[0m \u001b[0mread\u001b[0m\u001b[0;34m=\u001b[0m\u001b[0mFalse\u001b[0m\u001b[0;34m)\u001b[0m\u001b[0;34m,\u001b[0m\u001b[0;34m\u001b[0m\u001b[0m\n\u001b[0;32m--> 362\u001b[0;31m                     \u001b[0mtimeout\u001b[0m\u001b[0;34m=\u001b[0m\u001b[0mtimeout\u001b[0m\u001b[0;34m\u001b[0m\u001b[0m\n\u001b[0m\u001b[1;32m    363\u001b[0m                 )\n\u001b[1;32m    364\u001b[0m \u001b[0;34m\u001b[0m\u001b[0m\n",
        "\u001b[0;32m/usr/local/lib/python2.7/site-packages/requests/packages/urllib3/connectionpool.pyc\u001b[0m in \u001b[0;36murlopen\u001b[0;34m(self, method, url, body, headers, retries, redirect, assert_same_host, timeout, pool_timeout, release_conn, **response_kw)\u001b[0m\n\u001b[1;32m    514\u001b[0m             httplib_response = self._make_request(conn, method, url,\n\u001b[1;32m    515\u001b[0m                                                   \u001b[0mtimeout\u001b[0m\u001b[0;34m=\u001b[0m\u001b[0mtimeout\u001b[0m\u001b[0;34m,\u001b[0m\u001b[0;34m\u001b[0m\u001b[0m\n\u001b[0;32m--> 516\u001b[0;31m                                                   body=body, headers=headers)\n\u001b[0m\u001b[1;32m    517\u001b[0m \u001b[0;34m\u001b[0m\u001b[0m\n\u001b[1;32m    518\u001b[0m             \u001b[0;31m# If we're going to release the connection in ``finally:``, then\u001b[0m\u001b[0;34m\u001b[0m\u001b[0;34m\u001b[0m\u001b[0m\n",
        "\u001b[0;32m/usr/local/lib/python2.7/site-packages/requests/packages/urllib3/connectionpool.pyc\u001b[0m in \u001b[0;36m_make_request\u001b[0;34m(self, conn, method, url, timeout, **httplib_request_kw)\u001b[0m\n\u001b[1;32m    329\u001b[0m         \u001b[0;32mtry\u001b[0m\u001b[0;34m:\u001b[0m\u001b[0;34m\u001b[0m\u001b[0m\n\u001b[1;32m    330\u001b[0m             \u001b[0;32mtry\u001b[0m\u001b[0;34m:\u001b[0m  \u001b[0;31m# Python 2.7+, use buffering of HTTP responses\u001b[0m\u001b[0;34m\u001b[0m\u001b[0m\n\u001b[0;32m--> 331\u001b[0;31m                 \u001b[0mhttplib_response\u001b[0m \u001b[0;34m=\u001b[0m \u001b[0mconn\u001b[0m\u001b[0;34m.\u001b[0m\u001b[0mgetresponse\u001b[0m\u001b[0;34m(\u001b[0m\u001b[0mbuffering\u001b[0m\u001b[0;34m=\u001b[0m\u001b[0mTrue\u001b[0m\u001b[0;34m)\u001b[0m\u001b[0;34m\u001b[0m\u001b[0m\n\u001b[0m\u001b[1;32m    332\u001b[0m             \u001b[0;32mexcept\u001b[0m \u001b[0mTypeError\u001b[0m\u001b[0;34m:\u001b[0m  \u001b[0;31m# Python 2.6 and older\u001b[0m\u001b[0;34m\u001b[0m\u001b[0m\n\u001b[1;32m    333\u001b[0m                 \u001b[0mhttplib_response\u001b[0m \u001b[0;34m=\u001b[0m \u001b[0mconn\u001b[0m\u001b[0;34m.\u001b[0m\u001b[0mgetresponse\u001b[0m\u001b[0;34m(\u001b[0m\u001b[0;34m)\u001b[0m\u001b[0;34m\u001b[0m\u001b[0m\n",
        "\u001b[0;32m/usr/local/Cellar/python/2.7.8_2/Frameworks/Python.framework/Versions/2.7/lib/python2.7/httplib.pyc\u001b[0m in \u001b[0;36mgetresponse\u001b[0;34m(self, buffering)\u001b[0m\n\u001b[1;32m   1065\u001b[0m         \u001b[0mresponse\u001b[0m \u001b[0;34m=\u001b[0m \u001b[0mself\u001b[0m\u001b[0;34m.\u001b[0m\u001b[0mresponse_class\u001b[0m\u001b[0;34m(\u001b[0m\u001b[0;34m*\u001b[0m\u001b[0margs\u001b[0m\u001b[0;34m,\u001b[0m \u001b[0;34m**\u001b[0m\u001b[0mkwds\u001b[0m\u001b[0;34m)\u001b[0m\u001b[0;34m\u001b[0m\u001b[0m\n\u001b[1;32m   1066\u001b[0m \u001b[0;34m\u001b[0m\u001b[0m\n\u001b[0;32m-> 1067\u001b[0;31m         \u001b[0mresponse\u001b[0m\u001b[0;34m.\u001b[0m\u001b[0mbegin\u001b[0m\u001b[0;34m(\u001b[0m\u001b[0;34m)\u001b[0m\u001b[0;34m\u001b[0m\u001b[0m\n\u001b[0m\u001b[1;32m   1068\u001b[0m         \u001b[0;32massert\u001b[0m \u001b[0mresponse\u001b[0m\u001b[0;34m.\u001b[0m\u001b[0mwill_close\u001b[0m \u001b[0;34m!=\u001b[0m \u001b[0m_UNKNOWN\u001b[0m\u001b[0;34m\u001b[0m\u001b[0m\n\u001b[1;32m   1069\u001b[0m         \u001b[0mself\u001b[0m\u001b[0;34m.\u001b[0m\u001b[0m__state\u001b[0m \u001b[0;34m=\u001b[0m \u001b[0m_CS_IDLE\u001b[0m\u001b[0;34m\u001b[0m\u001b[0m\n",
        "\u001b[0;32m/usr/local/Cellar/python/2.7.8_2/Frameworks/Python.framework/Versions/2.7/lib/python2.7/httplib.pyc\u001b[0m in \u001b[0;36mbegin\u001b[0;34m(self)\u001b[0m\n\u001b[1;32m    407\u001b[0m         \u001b[0;31m# read until we get a non-100 response\u001b[0m\u001b[0;34m\u001b[0m\u001b[0;34m\u001b[0m\u001b[0m\n\u001b[1;32m    408\u001b[0m         \u001b[0;32mwhile\u001b[0m \u001b[0mTrue\u001b[0m\u001b[0;34m:\u001b[0m\u001b[0;34m\u001b[0m\u001b[0m\n\u001b[0;32m--> 409\u001b[0;31m             \u001b[0mversion\u001b[0m\u001b[0;34m,\u001b[0m \u001b[0mstatus\u001b[0m\u001b[0;34m,\u001b[0m \u001b[0mreason\u001b[0m \u001b[0;34m=\u001b[0m \u001b[0mself\u001b[0m\u001b[0;34m.\u001b[0m\u001b[0m_read_status\u001b[0m\u001b[0;34m(\u001b[0m\u001b[0;34m)\u001b[0m\u001b[0;34m\u001b[0m\u001b[0m\n\u001b[0m\u001b[1;32m    410\u001b[0m             \u001b[0;32mif\u001b[0m \u001b[0mstatus\u001b[0m \u001b[0;34m!=\u001b[0m \u001b[0mCONTINUE\u001b[0m\u001b[0;34m:\u001b[0m\u001b[0;34m\u001b[0m\u001b[0m\n\u001b[1;32m    411\u001b[0m                 \u001b[0;32mbreak\u001b[0m\u001b[0;34m\u001b[0m\u001b[0m\n",
        "\u001b[0;32m/usr/local/Cellar/python/2.7.8_2/Frameworks/Python.framework/Versions/2.7/lib/python2.7/httplib.pyc\u001b[0m in \u001b[0;36m_read_status\u001b[0;34m(self)\u001b[0m\n\u001b[1;32m    363\u001b[0m     \u001b[0;32mdef\u001b[0m \u001b[0m_read_status\u001b[0m\u001b[0;34m(\u001b[0m\u001b[0mself\u001b[0m\u001b[0;34m)\u001b[0m\u001b[0;34m:\u001b[0m\u001b[0;34m\u001b[0m\u001b[0m\n\u001b[1;32m    364\u001b[0m         \u001b[0;31m# Initialize with Simple-Response defaults\u001b[0m\u001b[0;34m\u001b[0m\u001b[0;34m\u001b[0m\u001b[0m\n\u001b[0;32m--> 365\u001b[0;31m         \u001b[0mline\u001b[0m \u001b[0;34m=\u001b[0m \u001b[0mself\u001b[0m\u001b[0;34m.\u001b[0m\u001b[0mfp\u001b[0m\u001b[0;34m.\u001b[0m\u001b[0mreadline\u001b[0m\u001b[0;34m(\u001b[0m\u001b[0m_MAXLINE\u001b[0m \u001b[0;34m+\u001b[0m \u001b[0;36m1\u001b[0m\u001b[0;34m)\u001b[0m\u001b[0;34m\u001b[0m\u001b[0m\n\u001b[0m\u001b[1;32m    366\u001b[0m         \u001b[0;32mif\u001b[0m \u001b[0mlen\u001b[0m\u001b[0;34m(\u001b[0m\u001b[0mline\u001b[0m\u001b[0;34m)\u001b[0m \u001b[0;34m>\u001b[0m \u001b[0m_MAXLINE\u001b[0m\u001b[0;34m:\u001b[0m\u001b[0;34m\u001b[0m\u001b[0m\n\u001b[1;32m    367\u001b[0m             \u001b[0;32mraise\u001b[0m \u001b[0mLineTooLong\u001b[0m\u001b[0;34m(\u001b[0m\u001b[0;34m\"header line\"\u001b[0m\u001b[0;34m)\u001b[0m\u001b[0;34m\u001b[0m\u001b[0m\n",
        "\u001b[0;32m/usr/local/Cellar/python/2.7.8_2/Frameworks/Python.framework/Versions/2.7/lib/python2.7/socket.pyc\u001b[0m in \u001b[0;36mreadline\u001b[0;34m(self, size)\u001b[0m\n\u001b[1;32m    474\u001b[0m             \u001b[0;32mwhile\u001b[0m \u001b[0mTrue\u001b[0m\u001b[0;34m:\u001b[0m\u001b[0;34m\u001b[0m\u001b[0m\n\u001b[1;32m    475\u001b[0m                 \u001b[0;32mtry\u001b[0m\u001b[0;34m:\u001b[0m\u001b[0;34m\u001b[0m\u001b[0m\n\u001b[0;32m--> 476\u001b[0;31m                     \u001b[0mdata\u001b[0m \u001b[0;34m=\u001b[0m \u001b[0mself\u001b[0m\u001b[0;34m.\u001b[0m\u001b[0m_sock\u001b[0m\u001b[0;34m.\u001b[0m\u001b[0mrecv\u001b[0m\u001b[0;34m(\u001b[0m\u001b[0mself\u001b[0m\u001b[0;34m.\u001b[0m\u001b[0m_rbufsize\u001b[0m\u001b[0;34m)\u001b[0m\u001b[0;34m\u001b[0m\u001b[0m\n\u001b[0m\u001b[1;32m    477\u001b[0m                 \u001b[0;32mexcept\u001b[0m \u001b[0merror\u001b[0m\u001b[0;34m,\u001b[0m \u001b[0me\u001b[0m\u001b[0;34m:\u001b[0m\u001b[0;34m\u001b[0m\u001b[0m\n\u001b[1;32m    478\u001b[0m                     \u001b[0;32mif\u001b[0m \u001b[0me\u001b[0m\u001b[0;34m.\u001b[0m\u001b[0margs\u001b[0m\u001b[0;34m[\u001b[0m\u001b[0;36m0\u001b[0m\u001b[0;34m]\u001b[0m \u001b[0;34m==\u001b[0m \u001b[0mEINTR\u001b[0m\u001b[0;34m:\u001b[0m\u001b[0;34m\u001b[0m\u001b[0m\n",
        "\u001b[0;31mKeyboardInterrupt\u001b[0m: "
       ]
      }
     ],
     "prompt_number": 4
    },
    {
     "cell_type": "code",
     "collapsed": false,
     "input": [],
     "language": "python",
     "metadata": {},
     "outputs": []
    }
   ],
   "metadata": {}
  }
 ]
}